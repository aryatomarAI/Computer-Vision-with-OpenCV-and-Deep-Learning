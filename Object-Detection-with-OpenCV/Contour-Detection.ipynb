{
 "cells": [
  {
   "cell_type": "markdown",
   "metadata": {},
   "source": [
    "## Contour Detection:\n",
    "\n",
    "* Contours are defined as simply a curve joining all the continuous points (along the boundary), having some color or intensity.\n",
    "* Contours are a useful tool for shape analysis and object detection and recognition.\n",
    "* OpenCV has a built in Counter finder function that can also help us differentiate between internal and external contours."
   ]
  },
  {
   "cell_type": "code",
   "execution_count": null,
   "metadata": {},
   "outputs": [],
   "source": []
  }
 ],
 "metadata": {
  "kernelspec": {
   "display_name": "Python 3",
   "language": "python",
   "name": "python3"
  },
  "language_info": {
   "codemirror_mode": {
    "name": "ipython",
    "version": 3
   },
   "file_extension": ".py",
   "mimetype": "text/x-python",
   "name": "python",
   "nbconvert_exporter": "python",
   "pygments_lexer": "ipython3",
   "version": "3.6.6"
  }
 },
 "nbformat": 4,
 "nbformat_minor": 2
}

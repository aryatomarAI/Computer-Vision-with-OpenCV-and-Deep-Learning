{
 "cells": [
  {
   "cell_type": "markdown",
   "metadata": {},
   "source": [
    "## Open videos with OpenCV "
   ]
  },
  {
   "cell_type": "code",
   "execution_count": 2,
   "metadata": {},
   "outputs": [],
   "source": [
    "# import OpenCV\n",
    "import cv2\n",
    "\n",
    "# load video\n",
    "cap=cv2.VideoCapture(\"my_capture.mp4\")\n",
    "\n",
    "# if video is loaded \n",
    "if cap.isOpened()==False:\n",
    "    print('Error file not found!')\n",
    "# While the video is opened\n",
    "while cap.isOpened():\n",
    "    \n",
    "    # Read the video file\n",
    "    ret,frame=cap.read()\n",
    "    \n",
    "    # If got frames show them\n",
    "    if ret==True:\n",
    "        \n",
    "        cv2.imshow('frame',frame)\n",
    "        \n",
    "        if cv2.waitKey(2) & 0xFF==ord('q'):\n",
    "            break\n",
    "    \n",
    "    # Automatically close video window if video is over\n",
    "    else:\n",
    "        break\n",
    "\n",
    "cap.release()\n",
    "# destroy all the frames\n",
    "cv2.destroyAllWindows()\n",
    "    \n",
    "    "
   ]
  },
  {
   "cell_type": "code",
   "execution_count": 1,
   "metadata": {},
   "outputs": [],
   "source": [
    "## If want to slow down the video speed you have to adjust it's frames per second , let's see how we can do that\n",
    "\n",
    "import cv2\n",
    "import time\n",
    "\n",
    "cap=cv2.VideoCapture('my_capture.mp4')\n",
    "\n",
    "if cap.isOpened()==False:\n",
    "    print(\"Error File Not Found!\")\n",
    "\n",
    "while cap.isOpened():\n",
    "    ret,frame=cap.read()\n",
    "    \n",
    "    if ret == True:\n",
    "        \n",
    "        time.sleep(1/25)   # Frames per second in which video is saved\n",
    "        \n",
    "        cv2.imshow('frame',frame)\n",
    "        \n",
    "        if cv2.waitKey(2) & 0xFF==ord('q'):\n",
    "            break\n",
    "    else:\n",
    "        break\n",
    "\n",
    "cap.release()\n",
    "cv2.destroyAllWindows()\n",
    "    "
   ]
  },
  {
   "cell_type": "code",
   "execution_count": null,
   "metadata": {},
   "outputs": [],
   "source": []
  }
 ],
 "metadata": {
  "kernelspec": {
   "display_name": "Python 3",
   "language": "python",
   "name": "python3"
  },
  "language_info": {
   "codemirror_mode": {
    "name": "ipython",
    "version": 3
   },
   "file_extension": ".py",
   "mimetype": "text/x-python",
   "name": "python",
   "nbconvert_exporter": "python",
   "pygments_lexer": "ipython3",
   "version": "3.6.6"
  }
 },
 "nbformat": 4,
 "nbformat_minor": 2
}

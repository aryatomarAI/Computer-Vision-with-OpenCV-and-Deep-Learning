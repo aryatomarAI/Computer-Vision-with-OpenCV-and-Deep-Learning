{
 "cells": [
  {
   "cell_type": "markdown",
   "metadata": {},
   "source": [
    "## Connecting OpenCV to camera\n",
    "OpenCV can automatically connect to your laptop's built in camera or your USB camera if you've installed that specific USB camera drivers."
   ]
  },
  {
   "cell_type": "code",
   "execution_count": 2,
   "metadata": {},
   "outputs": [],
   "source": [
    "# put this all in a single cell\n",
    "import cv2\n",
    "\n",
    "# connecting web cam\n",
    "cap=cv2.VideoCapture(0)\n",
    "\n",
    "# OpenCV Automatically grab width and height from video feed\n",
    "width=int(cap.get(cv2.CAP_PROP_FRAME_WIDTH))\n",
    "height=int(cap.get(cv2.CAP_PROP_FRAME_HEIGHT))\n",
    "\n",
    "while True:\n",
    "    \n",
    "    # Capture frame-by-frame\n",
    "    ret,frame=cap.read()\n",
    "    \n",
    "    # Our opeartion on the frame comes here\n",
    "    gray_frame=cv2.cvtColor(frame,cv2.COLOR_BGR2GRAY)\n",
    "    \n",
    "    #Show window here \n",
    "    cv2.imshow('frame',gray_frame)\n",
    "    \n",
    "    # This command let's us quit with the \"q\" button on a keyboard.\n",
    "    if cv2.waitKey(3) & 0xFF==ord('q'):\n",
    "        break\n",
    "        \n",
    "# When everything is finished release capture and destroy all opened windows\n",
    "cap.release()\n",
    "cv2.destroyAllWindows()"
   ]
  },
  {
   "cell_type": "code",
   "execution_count": 1,
   "metadata": {},
   "outputs": [],
   "source": [
    "#do it for colored video\n",
    "import cv2\n",
    "\n",
    "# Connecting Web cam\n",
    "cap=cv2.VideoCapture(0)\n",
    "\n",
    "# Width and height\n",
    "width=int(cap.get(cv2.CAP_PROP_FRAME_WIDTH))\n",
    "height=int(cap.get(cv2.CAP_PROP_FRAME_HEIGHT))\n",
    "\n",
    "while True:\n",
    "    \n",
    "    # capture frame by frame\n",
    "    ret,frame=cap.read()\n",
    "    \n",
    "    # Display the captured frame\n",
    "    cv2.imshow('frame',frame)\n",
    "    \n",
    "    # To close window\n",
    "    if cv2.waitKey(5) & 0xFF==ord('q'):\n",
    "        break\n",
    "\n",
    "# Release capture and destroy all windows\n",
    "cap.release()\n",
    "cv2.destroyAllWindows()"
   ]
  },
  {
   "cell_type": "code",
   "execution_count": null,
   "metadata": {},
   "outputs": [],
   "source": []
  },
  {
   "cell_type": "markdown",
   "metadata": {},
   "source": [
    "### Writing a Video stream to a file\n",
    "\n",
    "FourCC is a 4-byte code used to specify the video codec. The list of available codes can be found in fourcc.org. It is platform dependent."
   ]
  },
  {
   "cell_type": "code",
   "execution_count": null,
   "metadata": {},
   "outputs": [],
   "source": [
    "#import Opencv\n",
    "import cv2\n",
    "\n",
    "# connecting webcam\n",
    "cap=cv2.VideoCapture(0)\n",
    "\n",
    "# OpenCV automatically grab width and height from video feed\n",
    "width=int(cap.get(cv2.CAP_PROP_FRAME_WIDTH))\n",
    "height=int(cap.get(cv2.CAP_PROP_FRAME_HEIGHT))\n",
    "\n",
    "# Video writer which will record our video and then save it in a given file\n",
    "writer=cv2.VideoWriter(\"my_capture.mp4\",cv2.VideoWriter_fourcc(*'DIVX'),25,(width,height))\n",
    "\n",
    "while True:\n",
    "    \n",
    "    # Capture frame-by-frame\n",
    "    ret,frame=cap.read()\n",
    "    \n",
    "    # Write the video in writer file\n",
    "    writer.write(frame)\n",
    "    \n",
    "    # Display the frame\n",
    "    cv2.imshow('frame',frame)\n",
    "    \n",
    "    # to escape the frame\n",
    "    if cv2.waitKey(5) & 0xFF==ord('q'):\n",
    "        break\n",
    "        \n",
    "# release captured frame and writer file and destroy all windows\n",
    "cap.release()\n",
    "writer.release()\n",
    "cv2.destroyAllWindows()\n"
   ]
  },
  {
   "cell_type": "code",
   "execution_count": null,
   "metadata": {},
   "outputs": [],
   "source": []
  }
 ],
 "metadata": {
  "kernelspec": {
   "display_name": "Python 3",
   "language": "python",
   "name": "python3"
  },
  "language_info": {
   "codemirror_mode": {
    "name": "ipython",
    "version": 3
   },
   "file_extension": ".py",
   "mimetype": "text/x-python",
   "name": "python",
   "nbconvert_exporter": "python",
   "pygments_lexer": "ipython3",
   "version": "3.6.6"
  }
 },
 "nbformat": 4,
 "nbformat_minor": 2
}

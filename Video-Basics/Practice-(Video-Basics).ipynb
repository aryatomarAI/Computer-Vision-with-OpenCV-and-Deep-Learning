{
 "cells": [
  {
   "cell_type": "markdown",
   "metadata": {},
   "source": [
    "## Practising video basics \n",
    "\n",
    "**Problem**\n",
    "\n",
    "You only have one task here. Create a program that reads in a live stream from a camera on your computer (or if you don't have a camera, just open up a video file). Then whenever you click the left mouse button down, create a blue circle around where you've clicked."
   ]
  },
  {
   "cell_type": "code",
   "execution_count": 1,
   "metadata": {},
   "outputs": [],
   "source": [
    "# import cv2\n",
    "import cv2\n",
    "\n",
    "# Define a mouse callback function\n",
    "def display_circle(event,x,y,flags,param):\n",
    "    global pt,drawing\n",
    "    if event==cv2.EVENT_LBUTTONDOWN :\n",
    "        pt=(x,y)\n",
    "        drawing=False\n",
    "    if event==cv2.EVENT_LBUTTONUP:     \n",
    "        drawing=True\n",
    "\n",
    "drawing=False\n",
    "pt=(0,0)\n",
    "\n",
    "cap=cv2.VideoCapture(0)\n",
    "cv2.namedWindow('cirwin')\n",
    "cv2.setMouseCallback('cirwin',display_circle)\n",
    "\n",
    "while True:\n",
    "    ret,frame=cap.read()\n",
    "    \n",
    "    if drawing==True:\n",
    "        cv2.circle(frame,pt,60,(255,0,0),3)\n",
    "    \n",
    "    cv2.imshow('cirwin',frame)\n",
    "    \n",
    "    if cv2.waitKey(4) & 0xFF==ord('q'):\n",
    "        break\n",
    "\n",
    "cap.release()\n",
    "cv2.destroyAllWindows()\n",
    "    "
   ]
  },
  {
   "cell_type": "code",
   "execution_count": null,
   "metadata": {},
   "outputs": [],
   "source": []
  }
 ],
 "metadata": {
  "kernelspec": {
   "display_name": "Python 3",
   "language": "python",
   "name": "python3"
  },
  "language_info": {
   "codemirror_mode": {
    "name": "ipython",
    "version": 3
   },
   "file_extension": ".py",
   "mimetype": "text/x-python",
   "name": "python",
   "nbconvert_exporter": "python",
   "pygments_lexer": "ipython3",
   "version": "3.6.6"
  }
 },
 "nbformat": 4,
 "nbformat_minor": 2
}

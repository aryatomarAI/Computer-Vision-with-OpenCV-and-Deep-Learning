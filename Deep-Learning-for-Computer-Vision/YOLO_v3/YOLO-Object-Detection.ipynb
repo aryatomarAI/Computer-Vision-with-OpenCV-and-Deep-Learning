{
 "cells": [
  {
   "cell_type": "markdown",
   "metadata": {},
   "source": [
    "## YOLO Object Detection\n",
    "\n",
    "* This is a state of art image detection algorithm known as YOLO(You only look once)\n",
    "\n",
    "* YOLO can view an image and draw bounding boxes over what it perceives as identified classes.\n",
    "\n",
    "**What makes YOLO better than other image detection algorithms?**\n",
    "\n",
    "Prior detection systems repupose classifiers or localizers to perform detection.\n",
    "\n",
    "They apply the model to an image at multiple locations and scales. High scoring regions of the image are considered detections.\n",
    "\n",
    "*YOLO uses a totally different approach. We apply a single neural network to the full image. This network divides the image into regions and predicts bounding boxes and probabilities for each region. These bounding boxes are weighted by the predicted probabilities.\n",
    "\n",
    "*It looks at the whole image at test time so its predictions are informed by global context in the image.\n",
    "\n",
    "*It also makes predictions with a single network evaluation unlike systems like R-CNN which requires thousands for a single image.\n",
    "\n",
    "**We will be using a pretrained model that has been trained on COCO dataset. The COCO dataset ha over 1.5 million object instance with 80 different object categories.**\n",
    "\n",
    "**The reason behind using a pretrined model is that training a model on our own on coco dataset will take hours or days, and very large memory to store data on.**\n",
    "\n"
   ]
  },
  {
   "cell_type": "code",
   "execution_count": 1,
   "metadata": {},
   "outputs": [
    {
     "name": "stderr",
     "output_type": "stream",
     "text": [
      "Using TensorFlow backend.\n"
     ]
    }
   ],
   "source": [
    "# Import all the required tools\n",
    "import time\n",
    "import os\n",
    "import cv2\n",
    "import numpy as np\n",
    "from model.yolo_model import YOLO"
   ]
  },
  {
   "cell_type": "code",
   "execution_count": null,
   "metadata": {},
   "outputs": [],
   "source": []
  }
 ],
 "metadata": {
  "kernelspec": {
   "display_name": "Python 3",
   "language": "python",
   "name": "python3"
  },
  "language_info": {
   "codemirror_mode": {
    "name": "ipython",
    "version": 3
   },
   "file_extension": ".py",
   "mimetype": "text/x-python",
   "name": "python",
   "nbconvert_exporter": "python",
   "pygments_lexer": "ipython3",
   "version": "3.6.6"
  }
 },
 "nbformat": 4,
 "nbformat_minor": 2
}

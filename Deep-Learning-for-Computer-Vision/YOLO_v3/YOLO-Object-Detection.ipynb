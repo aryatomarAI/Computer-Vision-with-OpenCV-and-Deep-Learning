{
 "cells": [
  {
   "cell_type": "markdown",
   "metadata": {},
   "source": [
    "## YOLO Object Detection\n",
    "\n",
    "* This is a state of art image detection algorithm known as YOLO(You only look once)\n",
    "\n",
    "* YOLO can view an image and draw bounding boxes over what it perceives as identified classes.\n",
    "\n",
    "**What makes YOLO better than other image detection algorithms?**\n",
    "\n",
    "Prior detection systems repupose classifiers or localizers to perform detection.\n",
    "\n",
    "They apply the model to an image at multiple locations and scales. High scoring regions of the image are considered detections.\n",
    "\n",
    "*YOLO uses a totally different approach. We apply a single neural network to the full image. This network divides the image into regions and predicts bounding boxes and probabilities for each region. These bounding boxes are weighted by the predicted probabilities.\n",
    "\n",
    "*It looks at the whole image at test time so its predictions are informed by global context in the image.\n",
    "\n",
    "*It also makes predictions with a single network evaluation unlike systems like R-CNN which requires thousands for a single image.\n",
    "\n",
    "**We will be using a pretrained model that has been trained on COCO dataset. The COCO dataset ha over 1.5 million object instance with 80 different object categories.**\n",
    "\n",
    "**The reason behind using a pretrined model is that training a model on our own on coco dataset will take hours or days, and very large memory to store data on.**\n",
    "\n"
   ]
  },
  {
   "cell_type": "code",
   "execution_count": 1,
   "metadata": {},
   "outputs": [
    {
     "name": "stderr",
     "output_type": "stream",
     "text": [
      "Using TensorFlow backend.\n"
     ]
    }
   ],
   "source": [
    "# Import all the required tools\n",
    "import time\n",
    "import os\n",
    "import cv2\n",
    "import numpy as np\n",
    "from model.yolo_model import YOLO # Pre trained model"
   ]
  },
  {
   "cell_type": "code",
   "execution_count": 2,
   "metadata": {},
   "outputs": [],
   "source": [
    "def process_image(img):\n",
    "    '''\n",
    "    Resize, reduce and expand image\n",
    "    '''\n",
    "    \n",
    "    image=cv2.resize(img,(416,416),interpolation=cv2.INTER_CUBIC) # Resizing our image\n",
    "    \n",
    "    image=np.array(image,dtype='float32')      # turn into numpy array\n",
    "    image /=255                                # reduce thr image\n",
    "    image=np.expand_dims(image,axis=0)         # expand its dimensions\n",
    "    \n",
    "    return image"
   ]
  },
  {
   "cell_type": "code",
   "execution_count": 3,
   "metadata": {},
   "outputs": [],
   "source": [
    "def get_classes(file):\n",
    "    with open(file) as f:     # Open file\n",
    "        class_names=f.readlines()    # load its every line \n",
    "        \n",
    "    class_names=[c.strip() for c in class_names]   # put each line in the list as an item\n",
    "    \n",
    "    return class_names"
   ]
  },
  {
   "cell_type": "code",
   "execution_count": 13,
   "metadata": {},
   "outputs": [],
   "source": [
    "def draw(image,boxes,scores,classes,all_classes):\n",
    "    '''\n",
    "    Draw the boxes on the image\n",
    "    '''\n",
    "    for box,score,cl in zip(boxes,scores,classes):  # zip together boxes,classes and scores\n",
    "        x,y,w,h=box         # get coordinates\n",
    "        top=max(0,np.floor(x+0.5).astype(int))     \n",
    "        left=max(0,np.floor(y+0.5).astype(int))\n",
    "        right=min(image.shape[1],np.floor(x+w+0.5).astype(int))\n",
    "        bottom=min(image.shape[0],np.floor(y+h+0.5).astype(int))\n",
    "        \n",
    "        cv2.rectangle(image,(top,left),(right,bottom),(255,0,0),2)   # Drawing rectanles around the detected object\n",
    "        \n",
    "        cv2.putText(image,'{0} {1:.2f}'.format(all_classes[cl],score),(top,left-6),cv2.FONT_HERSHEY_SIMPLEX,0.6,(0,0,255),1,cv2.LINE_AA)\n",
    "        \n",
    "        print('class: {0}, score: {1:.2f}'.format(all_classes[cl],score))\n",
    "        \n",
    "    print()\n",
    "        \n",
    "        \n",
    "    "
   ]
  },
  {
   "cell_type": "code",
   "execution_count": 7,
   "metadata": {},
   "outputs": [],
   "source": [
    "def detect_image(image,yolo,all_classes):\n",
    "    \n",
    "    pimage=process_image(image)\n",
    "    start=time.time()\n",
    "    boxes,classes,scores=yolo.predict(pimage,image.shape)  # Make prediction on the image\n",
    "    end=time.time()\n",
    "    \n",
    "    print('time : {0:.2f}s'.format(end - start))       \n",
    "    \n",
    "    if boxes is not None:         \n",
    "        draw(image,boxes,scores,classes,all_classes)\n",
    "        \n",
    "    return image"
   ]
  },
  {
   "cell_type": "code",
   "execution_count": 10,
   "metadata": {},
   "outputs": [],
   "source": [
    "yolo=YOLO(0.4,0.5)       # Threshold values\n",
    "file='data/coco_classes.txt'   # our classes file\n",
    "all_classes=get_classes(file)"
   ]
  },
  {
   "cell_type": "markdown",
   "metadata": {},
   "source": [
    "### Detecting Images "
   ]
  },
  {
   "cell_type": "code",
   "execution_count": 11,
   "metadata": {},
   "outputs": [
    {
     "name": "stdout",
     "output_type": "stream",
     "text": [
      "time : 17.70s\n",
      "class: person, score: 0.95\n",
      "class: dog, score: 0.99\n",
      "class: dog, score: 0.88\n",
      "class: car, score: 0.94\n",
      "class: car, score: 0.89\n",
      "class: handbag, score: 0.48\n",
      "\n"
     ]
    },
    {
     "data": {
      "text/plain": [
       "True"
      ]
     },
     "execution_count": 11,
     "metadata": {},
     "output_type": "execute_result"
    }
   ],
   "source": [
    "f='bundo-kim-syhh8U3R55E-unsplash.jpg'\n",
    "path='images/test/' + f\n",
    "image=cv2.imread(path)\n",
    "image=detect_image(image,yolo,all_classes)\n",
    "cv2.imwrite('images/res/'+f,image)\n"
   ]
  },
  {
   "cell_type": "code",
   "execution_count": 14,
   "metadata": {},
   "outputs": [
    {
     "name": "stdout",
     "output_type": "stream",
     "text": [
      "time : 14.47s\n",
      "class: dog, score: 0.94\n",
      "class: car, score: 0.75\n",
      "class: car, score: 0.44\n",
      "class: car, score: 0.43\n",
      "class: truck, score: 0.88\n",
      "\n"
     ]
    },
    {
     "data": {
      "text/plain": [
       "True"
      ]
     },
     "execution_count": 14,
     "metadata": {},
     "output_type": "execute_result"
    }
   ],
   "source": [
    "f='gena-okami-yaHhqZvxjMw-unsplash.jpg'\n",
    "path='images/test/' + f\n",
    "image=cv2.imread(path)\n",
    "image=detect_image(image,yolo,all_classes)\n",
    "cv2.imwrite('images/res/'+f,image)"
   ]
  },
  {
   "cell_type": "code",
   "execution_count": null,
   "metadata": {},
   "outputs": [],
   "source": []
  }
 ],
 "metadata": {
  "kernelspec": {
   "display_name": "Python 3",
   "language": "python",
   "name": "python3"
  },
  "language_info": {
   "codemirror_mode": {
    "name": "ipython",
    "version": 3
   },
   "file_extension": ".py",
   "mimetype": "text/x-python",
   "name": "python",
   "nbconvert_exporter": "python",
   "pygments_lexer": "ipython3",
   "version": "3.6.6"
  }
 },
 "nbformat": 4,
 "nbformat_minor": 2
}

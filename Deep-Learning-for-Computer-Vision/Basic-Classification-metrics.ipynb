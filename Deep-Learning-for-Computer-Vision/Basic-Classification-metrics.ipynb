{
 "cells": [
  {
   "cell_type": "markdown",
   "metadata": {},
   "source": [
    "## Classification Metrics\n",
    "\n",
    "The key classification metrics we need to understand are:\n",
    "    \n",
    "    1. Accuarcy\n",
    "    \n",
    "    2. Recall\n",
    "    \n",
    "    3. Precision\n",
    "    \n",
    "    4. F1-score\n",
    "    \n",
    "* Typically in any classification task your model can only achieve only two results:\n",
    "    \n",
    "    1. Either you modell was correct in its prediction \n",
    "    \n",
    "    2. Or your model is incorrect in its prediction.\n",
    "    \n",
    "    \n",
    "**1. Accuracy**\n",
    "\n",
    "* Accuracy in classification is the number of correct predictions made by the model divided by the total number of predictions.\n",
    "\n",
    "* Accuracy is useful when the target classes are well balanced.\n",
    "\n",
    "**2. Recall**\n",
    "\n",
    "* Ability of a model to find all the relevant cases within a dataset.\n",
    "\n",
    "* The precise definition of recall is the number of true positives divided by the number of true positives plus the number of false negatives.\n",
    "\n",
    "**3. Precision**\n",
    "\n",
    "* Ability of a classification model to identify only the relevant data points.\n",
    "\n",
    "* Precision is defined as the number of true positives plus the number of false positives.\n",
    "\n",
    "**4. F1-score**\n",
    "\n",
    "* In cases where we want to find an optimal blend of precisio and recall we can combine the two metrics using what is called the F1 score.\n",
    "\n",
    "     F1=2*precision*recall/(precision+recall)\n",
    "    \n"
   ]
  },
  {
   "cell_type": "markdown",
   "metadata": {},
   "source": [
    "# Understanding a Neuron\n",
    "\n",
    "Artificial Neural Networks (ANN) actually have a basis in biology\n",
    "\n",
    "* Let's see how we can mimic a neuron with an artificial neuron:\n",
    "\n",
    "    Neuron is consists of Dentries(inputs) ,body(Activation function) and Axon (Outputs).\n",
    "    \n",
    "**Artificial Neuron**\n",
    "\n",
    "In Artificial Neuron we have inputs let's name them input0 and input1 for now and then these inputs feed into and function and then we have our output. This simple model is known as percepteron.\n",
    "\n",
    "Inputs will be values of featues.\n",
    "\n",
    "Then these inputs are multiplied by a weight\n",
    "\n",
    "Weights initially start off as random.\n",
    "\n",
    "Then these results are passed to an activation function.\n",
    "\n",
    "For now on our activation function is if the sum of the inputs is positive returns 1, if the sum is negative output is zero.\n",
    "\n",
    "There is a possible issue. What if the original inputs are zero?\n",
    "\n",
    "Then any weight multiplied by the input would still result in zero.\n",
    "\n",
    "We can fix this by adding in a bias term, in this case we choose 1.\n"
   ]
  },
  {
   "cell_type": "code",
   "execution_count": null,
   "metadata": {},
   "outputs": [],
   "source": []
  }
 ],
 "metadata": {
  "kernelspec": {
   "display_name": "Python 3",
   "language": "python",
   "name": "python3"
  },
  "language_info": {
   "codemirror_mode": {
    "name": "ipython",
    "version": 3
   },
   "file_extension": ".py",
   "mimetype": "text/x-python",
   "name": "python",
   "nbconvert_exporter": "python",
   "pygments_lexer": "ipython3",
   "version": "3.6.6"
  }
 },
 "nbformat": 4,
 "nbformat_minor": 2
}

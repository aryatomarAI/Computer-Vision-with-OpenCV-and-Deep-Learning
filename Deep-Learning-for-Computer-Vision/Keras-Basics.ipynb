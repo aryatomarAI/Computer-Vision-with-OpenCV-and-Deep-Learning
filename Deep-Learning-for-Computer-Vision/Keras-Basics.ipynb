{
 "cells": [
  {
   "cell_type": "markdown",
   "metadata": {},
   "source": [
    "## Keras Basics (understanding with an example)\n",
    "\n",
    "We'll start with some data on currency bank notes.\n",
    "\n",
    "Some of these notes are legitimate and some forgeries.\n",
    "\n",
    "The researchers created a dataset from these bank notes by taking images of the notes and then extracting various numerical features based off the wavelets of the images.\n",
    "\n",
    "**Let's load that data and then try to a model on that data which can predict which is data of a legitimate note and which isn't**"
   ]
  },
  {
   "cell_type": "code",
   "execution_count": 1,
   "metadata": {},
   "outputs": [],
   "source": [
    "# Import the tools\n",
    "import numpy as np\n",
    "from numpy import genfromtxt"
   ]
  },
  {
   "cell_type": "code",
   "execution_count": 4,
   "metadata": {},
   "outputs": [],
   "source": [
    "data=genfromtxt('bank_note_data.txt',delimiter=',')"
   ]
  },
  {
   "cell_type": "code",
   "execution_count": 5,
   "metadata": {},
   "outputs": [
    {
     "data": {
      "text/plain": [
       "array([[  3.6216 ,   8.6661 ,  -2.8073 ,  -0.44699,   0.     ],\n",
       "       [  4.5459 ,   8.1674 ,  -2.4586 ,  -1.4621 ,   0.     ],\n",
       "       [  3.866  ,  -2.6383 ,   1.9242 ,   0.10645,   0.     ],\n",
       "       ...,\n",
       "       [ -3.7503 , -13.4586 ,  17.5932 ,  -2.7771 ,   1.     ],\n",
       "       [ -3.5637 ,  -8.3827 ,  12.393  ,  -1.2823 ,   1.     ],\n",
       "       [ -2.5419 ,  -0.65804,   2.6842 ,   1.1952 ,   1.     ]])"
      ]
     },
     "execution_count": 5,
     "metadata": {},
     "output_type": "execute_result"
    }
   ],
   "source": [
    "data"
   ]
  },
  {
   "cell_type": "markdown",
   "metadata": {},
   "source": [
    "In this data array last column will act as our labels for training data set\n",
    "\n",
    "0 means forged note and 1 means legitimate note"
   ]
  },
  {
   "cell_type": "code",
   "execution_count": 8,
   "metadata": {},
   "outputs": [
    {
     "data": {
      "text/plain": [
       "1372"
      ]
     },
     "execution_count": 8,
     "metadata": {},
     "output_type": "execute_result"
    }
   ],
   "source": [
    "len(data)  # length of this data"
   ]
  },
  {
   "cell_type": "code",
   "execution_count": 10,
   "metadata": {},
   "outputs": [
    {
     "data": {
      "text/plain": [
       "array([0., 0., 0., ..., 1., 1., 1.])"
      ]
     },
     "execution_count": 10,
     "metadata": {},
     "output_type": "execute_result"
    }
   ],
   "source": [
    "# Let's seperate our labels from the data\n",
    "\n",
    "labels=data[:,4]\n",
    "labels"
   ]
  },
  {
   "cell_type": "code",
   "execution_count": 11,
   "metadata": {},
   "outputs": [
    {
     "data": {
      "text/plain": [
       "array([[  3.6216 ,   8.6661 ,  -2.8073 ,  -0.44699],\n",
       "       [  4.5459 ,   8.1674 ,  -2.4586 ,  -1.4621 ],\n",
       "       [  3.866  ,  -2.6383 ,   1.9242 ,   0.10645],\n",
       "       ...,\n",
       "       [ -3.7503 , -13.4586 ,  17.5932 ,  -2.7771 ],\n",
       "       [ -3.5637 ,  -8.3827 ,  12.393  ,  -1.2823 ],\n",
       "       [ -2.5419 ,  -0.65804,   2.6842 ,   1.1952 ]])"
      ]
     },
     "execution_count": 11,
     "metadata": {},
     "output_type": "execute_result"
    }
   ],
   "source": [
    "# Let's seperate the remaining data from the labels\n",
    "\n",
    "features=data[:,0:4]\n",
    "features"
   ]
  },
  {
   "cell_type": "markdown",
   "metadata": {},
   "source": [
    "Perfect!! now let's store them into X and y"
   ]
  },
  {
   "cell_type": "code",
   "execution_count": 13,
   "metadata": {},
   "outputs": [],
   "source": [
    "X=features\n",
    "y=labels"
   ]
  },
  {
   "cell_type": "code",
   "execution_count": 14,
   "metadata": {},
   "outputs": [],
   "source": [
    "# Now seperate this data into training data set and testing that set we will keep the ratio of 70 and 30\n",
    "\n",
    "from sklearn.model_selection import train_test_split\n",
    "\n",
    "X_train,X_test,y_train,y_test=train_test_split(X,y,test_size=0.3,random_state=42)"
   ]
  },
  {
   "cell_type": "code",
   "execution_count": 15,
   "metadata": {},
   "outputs": [
    {
     "data": {
      "text/plain": [
       "960"
      ]
     },
     "execution_count": 15,
     "metadata": {},
     "output_type": "execute_result"
    }
   ],
   "source": [
    "len(X_train)"
   ]
  },
  {
   "cell_type": "code",
   "execution_count": 16,
   "metadata": {},
   "outputs": [
    {
     "data": {
      "text/plain": [
       "960"
      ]
     },
     "execution_count": 16,
     "metadata": {},
     "output_type": "execute_result"
    }
   ],
   "source": [
    "len(y_train)"
   ]
  },
  {
   "cell_type": "code",
   "execution_count": 17,
   "metadata": {},
   "outputs": [
    {
     "data": {
      "text/plain": [
       "MinMaxScaler(copy=True, feature_range=(0, 1))"
      ]
     },
     "execution_count": 17,
     "metadata": {},
     "output_type": "execute_result"
    }
   ],
   "source": [
    "# Now let's scale or standardized our data\n",
    "\n",
    "from sklearn.preprocessing import MinMaxScaler\n",
    "\n",
    "scaler_object=MinMaxScaler()\n",
    "\n",
    "scaler_object.fit(X_train)"
   ]
  },
  {
   "cell_type": "code",
   "execution_count": 19,
   "metadata": {},
   "outputs": [],
   "source": [
    "# Now let's transform the training data\n",
    "\n",
    "scaled_X_train=scaler_object.transform(X_train)"
   ]
  },
  {
   "cell_type": "code",
   "execution_count": 22,
   "metadata": {},
   "outputs": [],
   "source": [
    "# Now let's transform the test data\n",
    "\n",
    "scaled_X_test=scaler_object.transform(X_test)"
   ]
  },
  {
   "cell_type": "code",
   "execution_count": 25,
   "metadata": {},
   "outputs": [
    {
     "data": {
      "text/plain": [
       "(0.0, 1.0000000000000002)"
      ]
     },
     "execution_count": 25,
     "metadata": {},
     "output_type": "execute_result"
    }
   ],
   "source": [
    "# As you can see our training data set is normalized between the range of 0 and 1\n",
    "scaled_X_train.min(),scaled_X_train.max()"
   ]
  },
  {
   "cell_type": "markdown",
   "metadata": {},
   "source": [
    "### We are done with our data so let's build a model for our problem using Keras"
   ]
  },
  {
   "cell_type": "code",
   "execution_count": 28,
   "metadata": {},
   "outputs": [],
   "source": [
    "from keras.models import Sequential\n",
    "from keras.layers import Dense"
   ]
  },
  {
   "cell_type": "code",
   "execution_count": 36,
   "metadata": {},
   "outputs": [
    {
     "name": "stdout",
     "output_type": "stream",
     "text": [
      "Epoch 1/50\n",
      " - 0s - loss: 0.6679 - acc: 0.5552\n",
      "Epoch 2/50\n",
      " - 0s - loss: 0.6523 - acc: 0.5552\n",
      "Epoch 3/50\n",
      " - 0s - loss: 0.6380 - acc: 0.5552\n",
      "Epoch 4/50\n",
      " - 0s - loss: 0.6207 - acc: 0.5865\n",
      "Epoch 5/50\n",
      " - 0s - loss: 0.6030 - acc: 0.6167\n",
      "Epoch 6/50\n",
      " - 0s - loss: 0.5860 - acc: 0.6510\n",
      "Epoch 7/50\n",
      " - 0s - loss: 0.5685 - acc: 0.7135\n",
      "Epoch 8/50\n",
      " - 0s - loss: 0.5511 - acc: 0.7552\n",
      "Epoch 9/50\n",
      " - 0s - loss: 0.5333 - acc: 0.7635\n",
      "Epoch 10/50\n",
      " - 0s - loss: 0.5148 - acc: 0.7906\n",
      "Epoch 11/50\n",
      " - 0s - loss: 0.4956 - acc: 0.8031\n",
      "Epoch 12/50\n",
      " - 0s - loss: 0.4754 - acc: 0.8188\n",
      "Epoch 13/50\n",
      " - 0s - loss: 0.4511 - acc: 0.8344\n",
      "Epoch 14/50\n",
      " - 0s - loss: 0.4178 - acc: 0.8833\n",
      "Epoch 15/50\n",
      " - 0s - loss: 0.3916 - acc: 0.8979\n",
      "Epoch 16/50\n",
      " - 0s - loss: 0.3678 - acc: 0.9104\n",
      "Epoch 17/50\n",
      " - 0s - loss: 0.3454 - acc: 0.9146\n",
      "Epoch 18/50\n",
      " - 0s - loss: 0.3248 - acc: 0.9281\n",
      "Epoch 19/50\n",
      " - 0s - loss: 0.3058 - acc: 0.9312\n",
      "Epoch 20/50\n",
      " - 0s - loss: 0.2876 - acc: 0.9333\n",
      "Epoch 21/50\n",
      " - 0s - loss: 0.2722 - acc: 0.9396\n",
      "Epoch 22/50\n",
      " - 0s - loss: 0.2570 - acc: 0.9438\n",
      "Epoch 23/50\n",
      " - 0s - loss: 0.2432 - acc: 0.9469\n",
      "Epoch 24/50\n",
      " - 0s - loss: 0.2310 - acc: 0.9500\n",
      "Epoch 25/50\n",
      " - 0s - loss: 0.2197 - acc: 0.9510\n",
      "Epoch 26/50\n",
      " - 0s - loss: 0.2085 - acc: 0.9510\n",
      "Epoch 27/50\n",
      " - 0s - loss: 0.1989 - acc: 0.9552\n",
      "Epoch 28/50\n",
      " - 0s - loss: 0.1902 - acc: 0.9563\n",
      "Epoch 29/50\n",
      " - 0s - loss: 0.1809 - acc: 0.9573\n",
      "Epoch 30/50\n",
      " - 0s - loss: 0.1743 - acc: 0.9583\n",
      "Epoch 31/50\n",
      " - 0s - loss: 0.1660 - acc: 0.9594\n",
      "Epoch 32/50\n",
      " - 0s - loss: 0.1582 - acc: 0.9615\n",
      "Epoch 33/50\n",
      " - 0s - loss: 0.1530 - acc: 0.9604\n",
      "Epoch 34/50\n",
      " - 0s - loss: 0.1458 - acc: 0.9667\n",
      "Epoch 35/50\n",
      " - 0s - loss: 0.1397 - acc: 0.9656\n",
      "Epoch 36/50\n",
      " - 0s - loss: 0.1344 - acc: 0.9677\n",
      "Epoch 37/50\n",
      " - 0s - loss: 0.1293 - acc: 0.9677\n",
      "Epoch 38/50\n",
      " - 0s - loss: 0.1247 - acc: 0.9688\n",
      "Epoch 39/50\n",
      " - 0s - loss: 0.1204 - acc: 0.9688\n",
      "Epoch 40/50\n",
      " - 0s - loss: 0.1159 - acc: 0.9688\n",
      "Epoch 41/50\n",
      " - 0s - loss: 0.1122 - acc: 0.9740\n",
      "Epoch 42/50\n",
      " - 0s - loss: 0.1088 - acc: 0.9708\n",
      "Epoch 43/50\n",
      " - 0s - loss: 0.1049 - acc: 0.9729\n",
      "Epoch 44/50\n",
      " - 0s - loss: 0.1014 - acc: 0.9750\n",
      "Epoch 45/50\n",
      " - 0s - loss: 0.0987 - acc: 0.9750\n",
      "Epoch 46/50\n",
      " - 0s - loss: 0.0950 - acc: 0.9760\n",
      "Epoch 47/50\n",
      " - 0s - loss: 0.0927 - acc: 0.9760\n",
      "Epoch 48/50\n",
      " - 0s - loss: 0.0898 - acc: 0.9792\n",
      "Epoch 49/50\n",
      " - 0s - loss: 0.0877 - acc: 0.9792\n",
      "Epoch 50/50\n",
      " - 0s - loss: 0.0850 - acc: 0.9792\n"
     ]
    },
    {
     "data": {
      "text/plain": [
       "<keras.callbacks.History at 0x271ae5fbe48>"
      ]
     },
     "execution_count": 36,
     "metadata": {},
     "output_type": "execute_result"
    }
   ],
   "source": [
    "model=Sequential()  # A Sequential model is appropriate for a plain stack of layers where each layer has exactly one input tensor and one output tensor.\n",
    "model.add(Dense(4,input_dim=4,activation=\"relu\"))  # We are using relu activation function for input layer neurons\n",
    "model.add(Dense(8,activation=\"relu\"))             # Hidden layer with 8 units and relu activation function\n",
    "model.add(Dense(1,activation='sigmoid'))          # Output layer give one output and activation function is sigmoid \n",
    "\n",
    "# For compilation we are using cross entropy cost function , our optimizer is adam and metrics on which we will evaluate our function is accuracy\n",
    "model.compile(loss=\"binary_crossentropy\",optimizer=\"adam\",metrics=[\"accuracy\"])\n",
    "\n",
    "model.fit(scaled_X_train,y_train,epochs=50,verbose=2)\n",
    "\n"
   ]
  },
  {
   "cell_type": "code",
   "execution_count": 37,
   "metadata": {},
   "outputs": [
    {
     "data": {
      "text/plain": [
       "array([[226,   3],\n",
       "       [  8, 175]], dtype=int64)"
      ]
     },
     "execution_count": 37,
     "metadata": {},
     "output_type": "execute_result"
    }
   ],
   "source": [
    "predictions=model.predict_classes(scaled_X_test)\n",
    "\n",
    "# Model metrics\n",
    "from sklearn.metrics import confusion_matrix,classification_report\n",
    "\n",
    "confusion_matrix(y_test,predictions)"
   ]
  },
  {
   "cell_type": "code",
   "execution_count": 38,
   "metadata": {},
   "outputs": [
    {
     "name": "stdout",
     "output_type": "stream",
     "text": [
      "             precision    recall  f1-score   support\n",
      "\n",
      "        0.0       0.97      0.99      0.98       229\n",
      "        1.0       0.98      0.96      0.97       183\n",
      "\n",
      "avg / total       0.97      0.97      0.97       412\n",
      "\n"
     ]
    }
   ],
   "source": [
    "print(classification_report(y_test,predictions))"
   ]
  },
  {
   "cell_type": "code",
   "execution_count": 39,
   "metadata": {},
   "outputs": [],
   "source": [
    "# Save and load model\n",
    "model.save(\"my_model.h5\")"
   ]
  },
  {
   "cell_type": "code",
   "execution_count": 40,
   "metadata": {},
   "outputs": [],
   "source": [
    "from keras.models import load_model\n",
    "new_model=load_model('my_model.h5')"
   ]
  },
  {
   "cell_type": "code",
   "execution_count": null,
   "metadata": {},
   "outputs": [],
   "source": []
  }
 ],
 "metadata": {
  "kernelspec": {
   "display_name": "Python 3",
   "language": "python",
   "name": "python3"
  },
  "language_info": {
   "codemirror_mode": {
    "name": "ipython",
    "version": 3
   },
   "file_extension": ".py",
   "mimetype": "text/x-python",
   "name": "python",
   "nbconvert_exporter": "python",
   "pygments_lexer": "ipython3",
   "version": "3.7.9"
  }
 },
 "nbformat": 4,
 "nbformat_minor": 2
}

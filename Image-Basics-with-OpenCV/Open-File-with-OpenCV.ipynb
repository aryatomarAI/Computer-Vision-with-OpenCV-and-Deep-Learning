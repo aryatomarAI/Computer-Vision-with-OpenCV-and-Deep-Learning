{
 "cells": [
  {
   "cell_type": "markdown",
   "metadata": {},
   "source": [
    "## Opening Image Files in their own seperate windows using OpenCV\n",
    "\n",
    "* In this part we will use OpenCv to display images in their own seperate window outside jupyter\n",
    "* For more complex video and image analysis we'll need to display outside of jupyter\n",
    "* While we often use plt.imshow() to display an image inside of a notebook, sometimes we want use OpenCV on its own to display images in their own windows\n",
    "* Many times Jupyter Lab can display a new window with no issues, but the kernel crashes when the OpenCV window is closed.\n",
    "* To fix this potential issue, simply restart the kernel"
   ]
  },
  {
   "cell_type": "code",
   "execution_count": null,
   "metadata": {},
   "outputs": [],
   "source": [
    "import cv2\n",
    "img=cv2.imread(r\"C:\\Users\\DELL\\Desktop\\Computer-Vision-with-OpenCV-and-Deep-Learning\\Numpy\\00-puppy.jpg\")\n",
    "cv2.imshow('Puppy',img)\n",
    "cv2.waitKey()\n"
   ]
  },
  {
   "cell_type": "code",
   "execution_count": null,
   "metadata": {},
   "outputs": [],
   "source": []
  }
 ],
 "metadata": {
  "kernelspec": {
   "display_name": "Python 3",
   "language": "python",
   "name": "python3"
  },
  "language_info": {
   "codemirror_mode": {
    "name": "ipython",
    "version": 3
   },
   "file_extension": ".py",
   "mimetype": "text/x-python",
   "name": "python",
   "nbconvert_exporter": "python",
   "pygments_lexer": "ipython3",
   "version": "3.6.6"
  }
 },
 "nbformat": 4,
 "nbformat_minor": 2
}

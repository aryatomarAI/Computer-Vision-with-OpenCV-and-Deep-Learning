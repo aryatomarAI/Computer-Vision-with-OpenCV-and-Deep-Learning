{
 "cells": [
  {
   "cell_type": "markdown",
   "metadata": {},
   "source": [
    "## Drawing on Images with Mouse\n",
    "\n",
    "* We can use callbacks to connect images to event functions with OpenCV\n",
    "* This allows us to directly interact with images\n",
    "\n",
    "**Here we will cover**\n",
    "\n",
    "* Connecting callbacks functions\n",
    "* Adding functionality through Event choices\n",
    "* Dragging the mouse for functionality"
   ]
  },
  {
   "cell_type": "code",
   "execution_count": 9,
   "metadata": {},
   "outputs": [],
   "source": [
    "import cv2\n",
    "import numpy as np\n",
    "\n",
    "# create a function based on a CV2 Event  (left button click)\n",
    "def draw_circles(event,x,y,flags,param):\n",
    "    if event==cv2.EVENT_LBUTTONDOWN:\n",
    "        cv2.circle(black_img,(x,y),100,(200,23,160),-1)\n",
    "\n",
    "\n",
    "# create a black image\n",
    "black_img=np.zeros(shape=(500,500,3),dtype=np.uint8)\n",
    "# Name this window so that we can reference it\n",
    "cv2.namedWindow(winname=\"my_window\")\n",
    "# Connect the mouse button to our callback function\n",
    "cv2.setMouseCallback(\"my_window\",draw_circles)\n",
    "\n",
    "while True: # Our window will keep on running until esc key is pressed\n",
    "    # Show the window\n",
    "    cv2.imshow('my_window',black_img)\n",
    "    \n",
    "    if cv2.waitKey(20) & 0xFF==27: # if window opens above 20ms and esc key is pressed\n",
    "        break\n",
    "# This command will distroy all the opened windows \n",
    "cv2.destroyAllWindows()"
   ]
  },
  {
   "cell_type": "markdown",
   "metadata": {},
   "source": [
    "### Adding functionality with event choices"
   ]
  },
  {
   "cell_type": "code",
   "execution_count": 11,
   "metadata": {},
   "outputs": [],
   "source": [
    "import cv2\n",
    "import numpy as np\n",
    "\n",
    "def draw_circle(event,x,y,flags,param):\n",
    "    if event==cv2.EVENT_LBUTTONDOWN:\n",
    "        cv2.circle(img,(x,y),50,(0,0,250),-1)\n",
    "    elif event==cv2.EVENT_RBUTTONDOWN:\n",
    "        cv2.circle(img,(x,y),50,(0,250,0),-1)\n",
    "\n",
    "img=np.zeros(shape=(550,550,3),dtype=np.uint8)\n",
    "cv2.namedWindow(winname=\"my_windo\")\n",
    "cv2.setMouseCallback(\"my_windo\",draw_circle)\n",
    "\n",
    "while True:\n",
    "    cv2.imshow('my_windo',img)\n",
    "    if cv2.waitKey(20) & 0xFF==27:\n",
    "        break\n",
    "        \n",
    "cv2.destroyAllWindows()"
   ]
  },
  {
   "cell_type": "markdown",
   "metadata": {},
   "source": [
    "### Dragging With Mouse"
   ]
  },
  {
   "cell_type": "code",
   "execution_count": 16,
   "metadata": {},
   "outputs": [],
   "source": [
    "import cv2 \n",
    "import numpy as np\n",
    "\n",
    "# Our drawing varibale is initially False which means we haven't start drawing yet\n",
    "drawing=False\n",
    "ix=-1   #  Initial position of our mouse cursor on x ordinate\n",
    "iy=-1   # Initial position of our mouse cursor on y ordinate\n",
    "\n",
    "# mouse callback function\n",
    "def draw_rectangle(event,x,y,flags,param):\n",
    "    \n",
    "    global drawing,ix,iy,mode\n",
    "    \n",
    "    # We have start drawing the rectangle by pressing the left button \n",
    "    if event==cv2.EVENT_LBUTTONDOWN:\n",
    "        drawing=True   # So our drawing variable becomes True\n",
    "        ix,iy=x,y      # Now our initial points are current coordinates of mouse cursor\n",
    "    \n",
    "    # Now we are dragging the mouse cursor by holding the left button \n",
    "    elif event==cv2.EVENT_MOUSEMOVE:\n",
    "        if drawing==True:    # If drawing variable is True that means we have already clicked the left button\n",
    "            cv2.rectangle(img_rec,(ix,iy),(x,y),(200,0,0),-1)   # We draw a rectangle from the previous position to the x,y where the mouse is\n",
    "            \n",
    "    elif event==cv2.EVENT_LBUTTONUP:\n",
    "        # Once you lift the mouse button, drawing is False\n",
    "        drawing = False\n",
    "        # Now our rectangle is complete\n",
    "        #cv2.rectangle(img_rec,(ix,iy),(x,y),(200,0,0),-1)\n",
    "\n",
    "img_rec=np.zeros(shape=(550,550,3),dtype=np.uint8)\n",
    "cv2.namedWindow(winname=\"rec_drawing\")\n",
    "cv2.setMouseCallback('rec_drawing',draw_rectangle)\n",
    "\n",
    "while True:\n",
    "    cv2.imshow('rec_drawing',img_rec)\n",
    "    if cv2.waitKey(5) & 0xFF==27:\n",
    "        break\n",
    "        \n",
    "cv2.destroyAllWindows()"
   ]
  },
  {
   "cell_type": "code",
   "execution_count": null,
   "metadata": {},
   "outputs": [],
   "source": []
  }
 ],
 "metadata": {
  "kernelspec": {
   "display_name": "Python 3",
   "language": "python",
   "name": "python3"
  },
  "language_info": {
   "codemirror_mode": {
    "name": "ipython",
    "version": 3
   },
   "file_extension": ".py",
   "mimetype": "text/x-python",
   "name": "python",
   "nbconvert_exporter": "python",
   "pygments_lexer": "ipython3",
   "version": "3.6.6"
  }
 },
 "nbformat": 4,
 "nbformat_minor": 2
}

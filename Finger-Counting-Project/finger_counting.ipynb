{
 "cells": [
  {
   "cell_type": "markdown",
   "metadata": {},
   "source": [
    "## Finger Counting Project\n",
    "<p><strong> In this project we will track down the hand and then count how many fingers are up, then show it on the screen</strong></p>"
   ]
  },
  {
   "cell_type": "code",
   "execution_count": 1,
   "metadata": {},
   "outputs": [],
   "source": [
    "# import all the needed tools\n",
    "import HandTrackingModule as htm\n",
    "import cv2\n",
    "from cvzone.HandTrackingModule import HandDetector\n",
    "import time\n",
    "import os"
   ]
  },
  {
   "cell_type": "code",
   "execution_count": 2,
   "metadata": {},
   "outputs": [],
   "source": [
    "# Let's Code \n",
    "#First let's enable the camera and fix it's window dimensions\n",
    "\n",
    "wCam,hCam=640,480\n",
    "\n",
    "cap=cv2.VideoCapture(0)\n",
    "cap.set(3,wCam)\n",
    "cap.set(4,wCam)\n",
    "\n",
    "# load all the finger counting images\n",
    "folderpath=\"fingers_images\"\n",
    "my_list=os.listdir(folderpath)\n",
    "over_list=[]\n",
    "\n",
    "# Store all the images in a list\n",
    "for im_path in my_list:\n",
    "    image=cv2.imread(f\"{folderpath}/{im_path}\")\n",
    "    image=cv2.resize(image,(150,150))\n",
    "    over_list.append(image)\n",
    "\n",
    "pTime=0\n",
    "# Detecting Hand\n",
    "detector=HandDetector(detectionCon=0.5, maxHands=1)\n",
    "\n",
    "while True:\n",
    "    ret,img=cap.read()\n",
    "    img=detector.findHands(img) \n",
    "    \n",
    "    h,w,c=over_list[0].shape\n",
    "    img[0:h,0:w]=over_list[0]\n",
    "    \n",
    "    cTime=time.time()\n",
    "    fps=1/(cTime-pTime)\n",
    "    \n",
    "    pTime=cTime\n",
    "    \n",
    "    cv2.putText(img,f\"FPS: {int(fps)}\",(300,50),cv2.FONT_HERSHEY_COMPLEX,2,(255,0,0),2)\n",
    "    \n",
    "    cv2.imshow(\"Image\",img)\n",
    "    \n",
    "    if cv2.waitKey(1) & 0xFF==ord('q'):\n",
    "        break\n",
    "    \n"
   ]
  },
  {
   "cell_type": "code",
   "execution_count": null,
   "metadata": {},
   "outputs": [],
   "source": []
  },
  {
   "cell_type": "code",
   "execution_count": null,
   "metadata": {},
   "outputs": [],
   "source": []
  }
 ],
 "metadata": {
  "kernelspec": {
   "display_name": "Python 3",
   "language": "python",
   "name": "python3"
  },
  "language_info": {
   "codemirror_mode": {
    "name": "ipython",
    "version": 3
   },
   "file_extension": ".py",
   "mimetype": "text/x-python",
   "name": "python",
   "nbconvert_exporter": "python",
   "pygments_lexer": "ipython3",
   "version": "3.6.6"
  }
 },
 "nbformat": 4,
 "nbformat_minor": 2
}

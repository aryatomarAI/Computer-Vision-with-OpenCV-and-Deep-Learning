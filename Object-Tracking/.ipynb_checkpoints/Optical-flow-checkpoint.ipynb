{
 "cells": [
  {
   "cell_type": "markdown",
   "metadata": {},
   "source": [
    "## Optical Flow \n",
    "**Optical flow is the pattern of apparent motion of image object between two consecutive frames cause by the movement of object or camera**\n",
    "\n",
    "* Optical flow analysis has few assumptions:\n",
    "    \n",
    "    1. The pixel intensities of an object do not change between consecutive frames.\n",
    "    \n",
    "    2. Neighbors pixels have similar motion.\n",
    "    \n",
    "    3. The optical flow methods in OpenCV will first take in a given set of points and a frame.\n",
    "    \n",
    "    4. Then it will attempt to find those points in the next frame.\n",
    "    \n",
    "    5. It is upto the user to supply the points to track."
   ]
  },
  {
   "cell_type": "markdown",
   "metadata": {},
   "source": [
    "## Lucas-Kanada\n",
    "Lucas-Kanada is a function used in Object tracking.\n",
    "\n",
    "Using OpenCV we pass in the previous frame, previous points and the current frame to the Lucas-Kanada Function.\n",
    "\n",
    "The Lucas-Kanada computes Optical flow for a sparse feature set.\n",
    "\n"
   ]
  },
  {
   "cell_type": "markdown",
   "metadata": {},
   "source": [
    "**But what if we want to track all the points in a video?**"
   ]
  },
  {
   "cell_type": "markdown",
   "metadata": {},
   "source": [
    "## Gunner Farneback's Algorithm\n",
    "\n",
    "* We can use Gunner Farnback's algorithm(also built-in to OpenCV) to calculate dense optical flow.\n",
    "\n",
    "* This dense optical flow will calculate flow for all the points in an image.\n",
    "\n",
    "* It will color them black if no flow(no movement is detected)."
   ]
  },
  {
   "cell_type": "code",
   "execution_count": null,
   "metadata": {},
   "outputs": [],
   "source": []
  }
 ],
 "metadata": {
  "kernelspec": {
   "display_name": "Python 3",
   "language": "python",
   "name": "python3"
  },
  "language_info": {
   "codemirror_mode": {
    "name": "ipython",
    "version": 3
   },
   "file_extension": ".py",
   "mimetype": "text/x-python",
   "name": "python",
   "nbconvert_exporter": "python",
   "pygments_lexer": "ipython3",
   "version": "3.6.6"
  }
 },
 "nbformat": 4,
 "nbformat_minor": 2
}

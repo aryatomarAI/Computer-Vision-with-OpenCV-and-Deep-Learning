{
 "cells": [
  {
   "cell_type": "markdown",
   "metadata": {},
   "source": [
    "## Counting the Number of Fingers \n",
    "In this project we will be creating program that can detect a hand, segment the hand, and count the number of fingers being held up\n",
    "\n",
    "* Firstly we will define some global variables.\n",
    "\n",
    "* Afterwards, we'll set up a function that updates a running avearge of the background values in an ROI.\n",
    "\n",
    "* This will later on allow us to detect new objects(hand) in the ROI.\n",
    "\n",
    "**Startegy for Counting fingers:**\n",
    "    \n",
    "    Grab an ROI.\n",
    "    \n",
    "    Calculate a running average background value for 60 frames of video.\n",
    "    \n",
    "    Once avg value is found, then the hand can enter the ROI.\n",
    "    \n",
    "**Full Process**\n",
    "\n",
    "1. Set an ROI and calculate the average running value for some amount of frames.\n",
    "\n",
    "2. Then once a hand enters, we can detect a change and apply thresholding.\n",
    "\n",
    "3. Once the hand enters the ROI, we will use a Convex hull to draw a polygon around the hand.\n",
    "\n",
    "4. After that we will count the fingers using some maths, we'll calculate the center of the hand against the angle of outer points to inter finger counts."
   ]
  },
  {
   "cell_type": "code",
   "execution_count": 1,
   "metadata": {},
   "outputs": [],
   "source": [
    "# Import the required tools\n",
    "import cv2\n",
    "import numpy as np\n",
    "from sklearn.metrics import pairwise"
   ]
  },
  {
   "cell_type": "markdown",
   "metadata": {},
   "source": [
    "### Defining the variables and creating a background function"
   ]
  },
  {
   "cell_type": "code",
   "execution_count": 2,
   "metadata": {},
   "outputs": [],
   "source": [
    "# variables\n",
    "background=None   # Initial back ground is None meaning we have nothing in the background\n",
    "accumulated_weight=0.5 # Our accumulated weight is between 0 and 1 i.e. 0.5\n",
    "roi_top=20\n",
    "roi_bottom=300\n",
    "roi_right=300\n",
    "roi_left=600"
   ]
  },
  {
   "cell_type": "code",
   "execution_count": 3,
   "metadata": {},
   "outputs": [],
   "source": [
    "# creating function for the background \n",
    "def cal_accum_avg(frame,accumulated_weight):\n",
    "    global background  # global varibale, it's initial value is none\n",
    "    \n",
    "    if background==None:\n",
    "        background=frame.copy().astype('float')\n",
    "        return None\n",
    "    cv2.accumulateWeighted(frame,background,accumulated_weight)\n",
    "    "
   ]
  },
  {
   "cell_type": "markdown",
   "metadata": {},
   "source": [
    "### Segmentation\n",
    "In this step we will use thresholding to grab the hand segment from the ROI"
   ]
  },
  {
   "cell_type": "code",
   "execution_count": 4,
   "metadata": {},
   "outputs": [],
   "source": [
    "def segment(frame,threshold_min=25):\n",
    "    # First calculate the absolute between the current frame and the background\n",
    "    diff=cv2.absdiff(backgraound.astype('uint8'),frame)\n",
    "    \n",
    "    # Apply thresholding on the absolute difference\n",
    "    ret,thresholded=cv2.threshold(diff,threshold_min,255,cv2.THRESH_BINARY)\n",
    "    \n",
    "    # Find external contours of the hand\n",
    "    image,contours,hierarchy=cv2.findContours(thresholded.copy(),cv2.RETR_EXTERNAL,cv2.CHAIN_APPROX_SIMPLE)\n",
    "    \n",
    "    if len(contours)==0:\n",
    "        return None\n",
    "    \n",
    "    else:\n",
    "        # Assuming the largest external contours in ROI, is the hand\n",
    "        hand_segment=max(contours,key=cv2.contourArea)\n",
    "        \n",
    "        return(thresholded,hand_segment)\n",
    "    \n",
    "    "
   ]
  },
  {
   "cell_type": "code",
   "execution_count": null,
   "metadata": {},
   "outputs": [],
   "source": []
  }
 ],
 "metadata": {
  "kernelspec": {
   "display_name": "Python 3",
   "language": "python",
   "name": "python3"
  },
  "language_info": {
   "codemirror_mode": {
    "name": "ipython",
    "version": 3
   },
   "file_extension": ".py",
   "mimetype": "text/x-python",
   "name": "python",
   "nbconvert_exporter": "python",
   "pygments_lexer": "ipython3",
   "version": "3.6.6"
  }
 },
 "nbformat": 4,
 "nbformat_minor": 2
}
